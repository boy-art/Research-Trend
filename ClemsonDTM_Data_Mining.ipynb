{
 "cells": [
  {
   "cell_type": "code",
   "execution_count": null,
   "metadata": {
    "collapsed": false
   },
   "outputs": [
    {
     "name": "stdout",
     "output_type": "stream",
     "text": [
      "\n",
      "Number of Topics: 25\n"
     ]
    }
   ],
   "source": [
    "import xml.etree.ElementTree as et \n",
    "from gensim import corpora\n",
    "from pprint import pprint \n",
    "from collections import defaultdict\n",
    "import glob \n",
    "\n",
    "#Dictionary for all award ID's and Abstracts \n",
    "global awards\n",
    "awards=dict()\n",
    "#Array storage for Award IDs and Abstracts \n",
    "awardabs_ar=[\"NULL\"]\n",
    "aID_ar=[\"NULL\"]\n",
    "doct_div2 = [\"NULL\"]\n",
    "doct_div = [\"NULL\"]\n",
    "\n",
    "\n",
    "#Counts The number of items found with an Abstract vs without \n",
    "without = 0\n",
    "T_with = 0 \n",
    "grandtotal = 0\n",
    "\n",
    "#Used as a condition for later statement \n",
    "x = 0\n",
    "topic = 0 \n",
    "    \n",
    "for items in glob.glob(\"201*/*.xml\"): #Iterate through all xml files in the directory/file name given\n",
    "    #Open files\n",
    "    item = open(items)\n",
    "    #Store Data\n",
    "    str_data = item.read()\n",
    "    #Convert data to text \n",
    "    data = et.fromstring(str_data)\n",
    "    #store the current name of the institution \n",
    "    clemson = data.find(\"Award\").find(\"Institution\").find(\"Name\").text\n",
    "    #Check if the name matches Clemson University \n",
    "    if clemson==\"Clemson University\":\n",
    "        #Add award ID and Abstract to the dictionary awards\n",
    "        ID = data.find(\"Award\").find(\"AwardID\").text\n",
    "        abstract = data.find(\"Award\").find(\"AbstractNarration\").text\n",
    "        awards[ID] = abstract\n",
    "        #Keep count of the number of items found \n",
    "        T_with = T_with + 1\n",
    "        #Determine the number of topics\n",
    "        doct = data.find(\"Award\").find(\"Organization\").find(\"Directorate\").find(\"LongName\").text\n",
    "        div = data.find(\"Award\").find(\"Organization\").find(\"Division\").find(\"LongName\").text\n",
    "        test = doct + div\n",
    "        if topic == 0:\n",
    "            doc = test\n",
    "            doct_div2[0]= test\n",
    "            topic = topic + 1\n",
    "        if test not in doct_div2:\n",
    "            doct_div2.append(test)\n",
    "        #Keep count of the number of items found \n",
    "        T_with = T_with + 1\n",
    "    else:\n",
    "        #Optional Keep count of the number of items not found \n",
    "        without = without + 1\n",
    "    #Optional Total Articles:\n",
    "    grandtotal = grandtotal + 1\n",
    "\n",
    "topic = len(doct_div2)\n",
    "print(\"\\nNumber of Topics:\", topic)\n",
    "    \n",
    "    \n",
    "#Store Data into arrays from the library \n",
    "for i,v in awards.items():\n",
    "    #Stores the first abstract and key into the first part of the array so append will see that the list is not empty.\n",
    "    if x == 0:\n",
    "        awardabs_ar[0]=v\n",
    "        aID_ar[0]=i\n",
    "        x = x + 1\n",
    "    else:\n",
    "        awardabs_ar.append(v)\n",
    "        aID_ar.append(i)\n",
    "#Optional print code for data in first part of array\n",
    "#for l in range(T_with):\n",
    "    #print(\"Award ID:\\n\"+aID_ar[l],\"\\n\\nAward Abstract:\\n\"+awardabs_ar[l]+\"\\n\")\n",
    "file=open(\"cu_tigers.txt\",\"w\")    \n",
    "for line in awardabs_ar:\n",
    "    file.write(line)\n",
    "    file.write(\"\\n\")\n",
    "file.close()"
   ]
  },
  {
   "cell_type": "code",
   "execution_count": null,
   "metadata": {
    "collapsed": true
   },
   "outputs": [],
   "source": []
  }
 ],
 "metadata": {
  "kernelspec": {
   "display_name": "Anaconda 2.5.0 (Python 3)",
   "language": "python",
   "name": "anaconda_2.5.0_python3"
  },
  "language_info": {
   "codemirror_mode": {
    "name": "ipython",
    "version": 3
   },
   "file_extension": ".py",
   "mimetype": "text/x-python",
   "name": "python",
   "nbconvert_exporter": "python",
   "pygments_lexer": "ipython3",
   "version": "3.5.2"
  }
 },
 "nbformat": 4,
 "nbformat_minor": 1
}
