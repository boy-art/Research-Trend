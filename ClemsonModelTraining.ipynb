{
 "cells": [
  {
   "cell_type": "code",
   "execution_count": 5,
   "metadata": {
    "collapsed": false
   },
   "outputs": [
    {
     "name": "stdout",
     "output_type": "stream",
     "text": [
      "done\n"
     ]
    }
   ],
   "source": [
    "from gensim import corpora, models\n",
    "from collections import defaultdict\n",
    "import gensim\n",
    "\n",
    "\n",
    "# compile sample documents into a list\n",
    "file = open('cu_tigers.txt', 'r')\n",
    "dictionary = file.readlines()\n",
    "\n",
    "#removed word list    \n",
    "read_words = open('stopwords.txt', 'r')\n",
    "r_words = read_words.readline()\n",
    "\n",
    "#remove common words and tokenize\n",
    "stoplist = set(r_words.split())\n",
    "\n",
    "texts = [[word for word in document.lower().split() if word not in stoplist]\n",
    "          for document in dictionary]\n",
    "# remove words that appear only once\n",
    "#frequency = defaultdict(int)\n",
    "#for text in texts:\n",
    "#    for token in text:\n",
    "#        frequency[token] += 1\n",
    "\n",
    "#texts = [[token for token in text if frequency[token] > 1]\n",
    "#          for text in texts]\n",
    "\n",
    "# turn our tokenized documents into a id <-> term dictionary\n",
    "dictionary = corpora.Dictionary(texts)\n",
    "    \n",
    "# convert tokenized documents into a document-term matrix\n",
    "corpus = [dictionary.doc2bow(text) for text in texts]\n",
    "\n",
    "# generate LDA model\n",
    "ldamodel = gensim.models.ldamodel.LdaModel(corpus, num_topics=25, id2word = dictionary, passes=20)\n",
    "\n",
    "ldamodel.save('/tmp/CuModel.lda')\n",
    "\n",
    "print(\"done\")"
   ]
  },
  {
   "cell_type": "code",
   "execution_count": null,
   "metadata": {
    "collapsed": true
   },
   "outputs": [],
   "source": []
  },
  {
   "cell_type": "code",
   "execution_count": 1,
   "metadata": {
    "collapsed": false
   },
   "outputs": [
    {
     "data": {
      "text/plain": [
       "[(0,\n",
       "  '0.020*algebraic + 0.020*chow + 0.018*group + 0.013*geometry + 0.009*infinite + 0.009*hodge + 0.007*world + 0.007*theory + 0.007*abelian + 0.007*subgroup')]"
      ]
     },
     "execution_count": 1,
     "metadata": {},
     "output_type": "execute_result"
    }
   ],
   "source": [
    "from gensim import corpora, models\n",
    "from collections import defaultdict\n",
    "import gensim\n",
    "import xml.etree.ElementTree as et \n",
    "\n",
    "#Open the xml file\n",
    "\n",
    "\n",
    "test_doc = open('2002/0200012.xml','r')\n",
    "\n",
    "#Store string data\n",
    "str_data = test_doc.read()\n",
    "    \n",
    "#Convert data to text \n",
    "data = et.fromstring(str_data)\n",
    "    \n",
    "#find the abstract in the xml file \n",
    "words = data.find(\"Award\").find(\"AbstractNarration\").text\n",
    "\n",
    "doc =[words]\n",
    "    \n",
    "#Words we dont want included in the model \n",
    "read_words = open('stopwords.txt', 'r')\n",
    "r_words = read_words.readline()\n",
    "\n",
    "#remove common words and tokenize\n",
    "stoplist = set(r_words.split())\n",
    "    \n",
    "texts = [[word for word in document.lower().split() if word not in stoplist]\n",
    "        for document in doc]\n",
    "\n",
    "#texts = [[token for token in text if frequency[token] > 1]\n",
    "        #for text in texts]\n",
    "\n",
    "# turn our tokenized documents into a id <-> term dictionary\n",
    "dictionary = corpora.Dictionary(texts)\n",
    "\n",
    "#convert tokenized documents into a document-term matrix\n",
    "corpus = [dictionary.doc2bow(text) for text in texts]\n",
    "\n",
    "lda_test = gensim.models.ldamodel.LdaModel(corpus, num_topics=1, id2word = dictionary, passes=10)\n",
    "\n",
    "#lda_test.print_topics(num_topics=1, num_words=10)\n",
    "lda_test.print_topics(-1)\n",
    "\n",
    "#lda = models.LdaModel.load('/tmp/CuModel.lda')\n",
    "\n",
    "#lda.update(corpus2)\n",
    "\n",
    "\n",
    "\n",
    "\n"
   ]
  },
  {
   "cell_type": "code",
   "execution_count": null,
   "metadata": {
    "collapsed": true
   },
   "outputs": [],
   "source": []
  }
 ],
 "metadata": {
  "kernelspec": {
   "display_name": "Anaconda 2.5.0 (Python 3)",
   "language": "python",
   "name": "anaconda_2.5.0_python3"
  },
  "language_info": {
   "codemirror_mode": {
    "name": "ipython",
    "version": 3
   },
   "file_extension": ".py",
   "mimetype": "text/x-python",
   "name": "python",
   "nbconvert_exporter": "python",
   "pygments_lexer": "ipython3",
   "version": "3.5.2"
  }
 },
 "nbformat": 4,
 "nbformat_minor": 1
}
