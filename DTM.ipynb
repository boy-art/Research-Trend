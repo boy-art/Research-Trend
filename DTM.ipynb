{
 "cells": [
  {
   "cell_type": "code",
   "execution_count": 9,
   "metadata": {
    "collapsed": false
   },
   "outputs": [
    {
     "name": "stdout",
     "output_type": "stream",
     "text": [
      "0196500.xml\n"
     ]
    }
   ],
   "source": [
    "import os, pickle \n",
    "\n",
    "path= \"/home/jallen2/git/Research-Trend/sample\"\n",
    "sampleList= os.listdir(path)\n",
    "myList=[]\n",
    "for items in sampleList:\n",
    "    if \".xml\"in items:\n",
    "        myList.append(items)\n",
    "print(myList[0])\n"
   ]
  },
  {
   "cell_type": "code",
   "execution_count": null,
   "metadata": {
    "collapsed": false
   },
   "outputs": [],
   "source": [
    "/home/jallen2/git/Research-Trend/sample"
   ]
  },
  {
   "cell_type": "code",
   "execution_count": null,
   "metadata": {
    "collapsed": false
   },
   "outputs": [],
   "source": [
    "import os, pickle \n",
    "import glob\n",
    "path= \"sample\"\n",
    "myList = []\n",
    "for items in glob.glob(\"sample/*.xml\"):\n",
    "    print(items)\n",
    "    #open items first\n",
    "    for line in items:\n",
    "        if line.startswith(\"<rootTag>\"):\n",
    "            myList.append(items)\n",
    "print(myList)\n"
   ]
  },
  {
   "cell_type": "code",
   "execution_count": 13,
   "metadata": {
    "collapsed": false
   },
   "outputs": [
    {
     "ename": "SyntaxError",
     "evalue": "invalid syntax (<ipython-input-13-2448231b4a51>, line 7)",
     "output_type": "error",
     "traceback": [
      "\u001b[1;36m  File \u001b[1;32m\"<ipython-input-13-2448231b4a51>\"\u001b[1;36m, line \u001b[1;32m7\u001b[0m\n\u001b[1;33m    def addAbstracttolist(str abst):\u001b[0m\n\u001b[1;37m                                 ^\u001b[0m\n\u001b[1;31mSyntaxError\u001b[0m\u001b[1;31m:\u001b[0m invalid syntax\n"
     ]
    }
   ],
   "source": [
    "import glob\n",
    "import xml.etree.ElementTree as et\n",
    "\n",
    "global iDs, abstract \n",
    "iDs = []\n",
    "abstract = []\n",
    "def addAbstracttolist(abst):\n",
    "    if not abst:\n",
    "        abstract.append(\"N/A\")\n",
    "    else:\n",
    "        abstract.append(abst)\n",
    "def addIDtolist(ID):\n",
    "    iDs.append(ID)\n",
    "    \n",
    "for items in glob.glob(\"sample/0*.xml\"):\n",
    "    data = open(items)\n",
    "    str_data = data.read()\n",
    "    xml_data = et.fromstring(str_data)\n",
    "    global award_list \n",
    "    award_list = xml_data.findall(\"Award\")\n",
    "    addIDtolist(items.find(\"AwardID\").text)\n",
    "    addAbstracttolist(items.find(\"AbstractNarration\").text)\n",
    "   \n",
    "    \n",
    "for i in iDs:\n",
    "    print(iDs[i]+\":\",abstract[i])\n",
    "    "
   ]
  },
  {
   "cell_type": "code",
   "execution_count": 8,
   "metadata": {
    "collapsed": false
   },
   "outputs": [
    {
     "name": "stdout",
     "output_type": "stream",
     "text": [
      "0196500: None\n"
     ]
    }
   ],
   "source": [
    "\n",
    "import xml.etree.ElementTree as et\n",
    "import glob \n",
    "\n",
    "global awards\n",
    "awards=dict()\n",
    "\n",
    "def addIDandAbs(ID,abstract):\n",
    "    for i in awards:\n",
    "        if i == ID:\n",
    "            print(\"Error\")\n",
    "        return\n",
    "    awards[ID] = abstract\n",
    "def addtolist():\n",
    "    for i in award_list:\n",
    "        addIDandAbs(i.find(\"AwardID\").text,i.find(\"AbstractNarration\").text)    \n",
    "\n",
    "for items in glob.glob(\"sample/0*.xml\"):\n",
    "    item = open(items)\n",
    "    str_data =  item.read()\n",
    "    data = et.fromstring(str_data)\n",
    "    global award_list \n",
    "    award_list = data.findall(\"Award\")\n",
    "    addtolist()\n",
    "    \n",
    "for k, v in awards.items(): \n",
    "    sorted(awards.keys())\n",
    "    print(k+\":\", v)\n",
    "\n",
    "\n",
    "\n",
    "\n",
    "\n",
    "\n"
   ]
  },
  {
   "cell_type": "code",
   "execution_count": null,
   "metadata": {
    "collapsed": true
   },
   "outputs": [],
   "source": []
  }
 ],
 "metadata": {
  "kernelspec": {
   "display_name": "Anaconda 2.5.0 (Python 3)",
   "language": "python",
   "name": "anaconda_2.5.0_python3"
  },
  "language_info": {
   "codemirror_mode": {
    "name": "ipython",
    "version": 3
   },
   "file_extension": ".py",
   "mimetype": "text/x-python",
   "name": "python",
   "nbconvert_exporter": "python",
   "pygments_lexer": "ipython3",
   "version": "3.5.2"
  }
 },
 "nbformat": 4,
 "nbformat_minor": 0
}
