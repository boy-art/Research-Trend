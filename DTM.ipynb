{
 "cells": [
  {
   "cell_type": "code",
   "execution_count": 9,
   "metadata": {
    "collapsed": false
   },
   "outputs": [
    {
     "name": "stdout",
     "output_type": "stream",
     "text": [
      "0196500.xml\n"
     ]
    }
   ],
   "source": [
    "import os, pickle \n",
    "\n",
    "path= \"/home/jallen2/git/Research-Trend/sample\"\n",
    "sampleList= os.listdir(path)\n",
    "myList=[]\n",
    "for items in sampleList:\n",
    "    if \".xml\"in items:\n",
    "        myList.append(items)\n",
    "print(myList[0])\n"
   ]
  },
  {
   "cell_type": "code",
   "execution_count": null,
   "metadata": {
    "collapsed": false
   },
   "outputs": [],
   "source": [
    "/home/jallen2/git/Research-Trend/sample"
   ]
  },
  {
   "cell_type": "code",
   "execution_count": 20,
   "metadata": {
    "collapsed": false
   },
   "outputs": [
    {
     "name": "stdout",
     "output_type": "stream",
     "text": [
      "[]\n"
     ]
    }
   ],
   "source": [
    "import os, pickle \n",
    "\n",
    "path= \"/home/jallen2/git/Research-Trend/sample\"\n",
    "sampleList= os.listdir(path)\n",
    "myList=[]\n",
    "for items in sampleList:\n",
    "    if \".xml\"in items:\n",
    "        for line in items:\n",
    "            if line.startswith(\"<rootTag>\"):\n",
    "                myList.append(items)\n",
    "print(myList)\n"
   ]
  },
  {
   "cell_type": "code",
   "execution_count": 61,
   "metadata": {
    "collapsed": false
   },
   "outputs": [
    {
     "name": "stdout",
     "output_type": "stream",
     "text": [
      "cat: model.py: No such file or directory\r\n"
     ]
    }
   ],
   "source": [
    "!cat model.py"
   ]
  },
  {
   "cell_type": "code",
   "execution_count": null,
   "metadata": {
    "collapsed": true
   },
   "outputs": [],
   "source": []
  }
 ],
 "metadata": {
  "kernelspec": {
   "display_name": "Anaconda 2.5.0 (Python 3)",
   "language": "python",
   "name": "anaconda_2.5.0_python3"
  }
 },
 "nbformat": 4,
 "nbformat_minor": 0
}
