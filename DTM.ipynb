{
 "cells": [
  {
   "cell_type": "code",
   "execution_count": 9,
   "metadata": {
    "collapsed": false
   },
   "outputs": [
    {
     "name": "stdout",
     "output_type": "stream",
     "text": [
      "0196500.xml\n"
     ]
    }
   ],
   "source": [
    "import os, pickle \n",
    "\n",
    "path= \"/home/jallen2/git/Research-Trend/sample\"\n",
    "sampleList= os.listdir(path)\n",
    "myList=[]\n",
    "for items in sampleList:\n",
    "    if \".xml\"in items:\n",
    "        myList.append(items)\n",
    "print(myList[0])\n"
   ]
  },
  {
   "cell_type": "code",
   "execution_count": null,
   "metadata": {
    "collapsed": false
   },
   "outputs": [],
   "source": [
    "/home/jallen2/git/Research-Trend/sample"
   ]
  },
  {
   "cell_type": "code",
   "execution_count": null,
   "metadata": {
    "collapsed": false
   },
   "outputs": [],
   "source": [
    "import os, pickle \n",
    "import glob\n",
    "path= \"sample\"\n",
    "myList = []\n",
    "for items in glob.glob(\"sample/*.xml\"):\n",
    "    print(items)\n",
    "    #open items first\n",
    "    for line in items:\n",
    "        if line.startswith(\"<rootTag>\"):\n",
    "            myList.append(items)\n",
    "print(myList)\n"
   ]
  },
  {
   "cell_type": "code",
   "execution_count": 4,
   "metadata": {
    "collapsed": false
   },
   "outputs": [
    {
     "name": "stdout",
     "output_type": "stream",
     "text": [
      "DTM.ipynb  model.py  Python-Data-Exercise  sample  sample.dat\r\n"
     ]
    }
   ],
   "source": [
    "!ls"
   ]
  },
  {
   "cell_type": "code",
   "execution_count": 10,
   "metadata": {
    "collapsed": false
   },
   "outputs": [
    {
     "name": "stdout",
     "output_type": "stream",
     "text": [
      "<?xml version=\"1.0\" encoding=\"UTF-8\"?>\n",
      "\n",
      "<rootTag>\n",
      "  <Award>\n",
      "    <AwardTitle>CAREER: Effective Grid Programming with EveryWare and G-commerce</AwardTitle>\n",
      "    <AwardEffectiveDate>08/01/2001</AwardEffectiveDate>\n",
      "    <AwardExpirationDate>12/31/2007</AwardExpirationDate>\n",
      "    <AwardAmount>333030</AwardAmount>\n",
      "    <AwardInstrument>\n",
      "      <Value>Continuing grant</Value>\n",
      "    </AwardInstrument>\n",
      "    <Organization>\n",
      "      <Code>05010000</Code>\n",
      "      <Directorate>\n",
      "        <LongName>Direct For Computer &amp; Info Scie &amp; Enginr</LongName>\n",
      "      </Directorate>\n",
      "      <Division>\n",
      "        <LongName>Division of Computing and Communication Foundations</LongName>\n",
      "      </Division>\n",
      "    </Organization>\n",
      "    <ProgramOfficer>\n",
      "      <SignBlockName>Almadena Y. Chtchelkanova</SignBlockName>\n",
      "    </ProgramOfficer>\n",
      "    <AbstractNarration/>\n",
      "    <MinAmdLetterDate>09/24/2001</MinAmdLetterDate>\n",
      "    <MaxAmdLetterDate>12/01/2006</MaxAmdLetterDate>\n",
      "    <ARRAAmount/>\n",
      "    <AwardID>0196500</AwardID>\n",
      "    <Investigator>\n",
      "      <FirstName>Richard</FirstName>\n",
      "      <LastName>Wolski</LastName>\n",
      "      <EmailAddress>rich@cs.ucsb.edu</EmailAddress>\n",
      "      <StartDate>01/16/2001</StartDate>\n",
      "      <EndDate/>\n",
      "      <RoleCode>Principal Investigator</RoleCode>\n",
      "    </Investigator>\n",
      "    <Institution>\n",
      "      <Name>University of California-Santa Barbara</Name>\n",
      "      <CityName>SANTA BARBARA</CityName>\n",
      "      <ZipCode>931062050</ZipCode>\n",
      "      <PhoneNumber>8058934188</PhoneNumber>\n",
      "      <StreetAddress>Office of Research</StreetAddress>\n",
      "      <CountryName>United States</CountryName>\n",
      "      <StateName>California</StateName>\n",
      "      <StateCode>CA</StateCode>\n",
      "    </Institution>\n",
      "    <FoaInformation>\n",
      "      <Code>0000099</Code>\n",
      "      <Name>Other Applications NEC</Name>\n",
      "    </FoaInformation>\n",
      "  </Award>\n",
      "</rootTag>\n",
      "\n"
     ]
    }
   ],
   "source": [
    "import lxml.etree as ET\n",
    "import glob as g\n",
    "\n",
    "path=\"sample/0196500.xml\"\n",
    "myList=[]\n",
    "file=open(path,'r')\n",
    "print(file.read())\n",
    "file.close()\n",
    "\n",
    "\n",
    "\n",
    "\n",
    "\n",
    "\n"
   ]
  },
  {
   "cell_type": "code",
   "execution_count": null,
   "metadata": {
    "collapsed": true
   },
   "outputs": [],
   "source": []
  }
 ],
 "metadata": {
  "kernelspec": {
   "display_name": "Anaconda 2.5.0 (Python 3)",
   "language": "python",
   "name": "anaconda_2.5.0_python3"
  },
  "language_info": {
   "codemirror_mode": {
    "name": "ipython",
    "version": 3
   },
   "file_extension": ".py",
   "mimetype": "text/x-python",
   "name": "python",
   "nbconvert_exporter": "python",
   "pygments_lexer": "ipython3",
   "version": "3.5.2"
  }
 },
 "nbformat": 4,
 "nbformat_minor": 0
}
