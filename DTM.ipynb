{
 "cells": [
  {
   "cell_type": "code",
   "execution_count": 9,
   "metadata": {
    "collapsed": false
   },
   "outputs": [
    {
     "name": "stdout",
     "output_type": "stream",
     "text": [
      "0196500.xml\n"
     ]
    }
   ],
   "source": [
    "import os, pickle \n",
    "\n",
    "path= \"/home/jallen2/git/Research-Trend/sample\"\n",
    "sampleList= os.listdir(path)\n",
    "myList=[]\n",
    "for items in sampleList:\n",
    "    if \".xml\"in items:\n",
    "        myList.append(items)\n",
    "print(myList[0])\n"
   ]
  },
  {
   "cell_type": "code",
   "execution_count": null,
   "metadata": {
    "collapsed": false
   },
   "outputs": [],
   "source": [
    "/home/jallen2/git/Research-Trend/sample"
   ]
  },
  {
   "cell_type": "code",
   "execution_count": null,
   "metadata": {
    "collapsed": false
   },
   "outputs": [],
   "source": [
    "import os, pickle \n",
    "import glob\n",
    "path= \"sample\"\n",
    "myList = []\n",
    "for items in glob.glob(\"sample/*.xml\"):\n",
    "    print(items)\n",
    "    #open items first\n",
    "    for line in items:\n",
    "        if line.startswith(\"<rootTag>\"):\n",
    "            myList.append(items)\n",
    "print(myList)\n"
   ]
  },
  {
   "cell_type": "code",
   "execution_count": 24,
   "metadata": {
    "collapsed": false
   },
   "outputs": [
    {
     "name": "stdout",
     "output_type": "stream",
     "text": [
      "sample/0196500.xml\n"
     ]
    }
   ],
   "source": [
    "import glob\n",
    "\n",
    "global i \n",
    "i = []\n",
    "\n",
    "\n",
    "for items in glob.glob(\"sample/0*.xml\"):\n",
    "    i.append(items) \n",
    "   \n",
    "    \n",
    "print(i[0])\n",
    "    "
   ]
  },
  {
   "cell_type": "code",
   "execution_count": 18,
   "metadata": {
    "collapsed": false
   },
   "outputs": [
    {
     "name": "stdout",
     "output_type": "stream",
     "text": [
      "0196500 None\n"
     ]
    }
   ],
   "source": [
    "\n",
    "import xml.etree.ElementTree as et\n",
    "import glob \n",
    "\n",
    "global awards\n",
    "awards=dict()\n",
    "\n",
    "def addIDandAbs(ID,abstract):\n",
    "    for i in awards:\n",
    "        if i == ID:\n",
    "            print(\"Error\")\n",
    "        return\n",
    "    awards[ID] = abstract\n",
    "def addtolist():\n",
    "    for i in award_list:\n",
    "        addIDandAbs(i.find(\"AwardID\").text,i.find(\"AbstractNarration\").text)    \n",
    "\n",
    "for items in glob.glob(\"sample/0*.xml\"):\n",
    "    item = open(items)\n",
    "    str_data =  item.read()\n",
    "    data = et.fromstring(str_data)\n",
    "    global award_list \n",
    "    award_list = data.findall(\"Award\")\n",
    "    addtolist()\n",
    "    \n",
    "for k, v in awards.items(): print(k, v)\n",
    "\n",
    "\n",
    "\n",
    "\n",
    "\n",
    "\n"
   ]
  },
  {
   "cell_type": "code",
   "execution_count": null,
   "metadata": {
    "collapsed": true
   },
   "outputs": [],
   "source": []
  }
 ],
 "metadata": {
  "kernelspec": {
   "display_name": "Anaconda 2.5.0 (Python 3)",
   "language": "python",
   "name": "anaconda_2.5.0_python3"
  }
 },
 "nbformat": 4,
 "nbformat_minor": 0
}
