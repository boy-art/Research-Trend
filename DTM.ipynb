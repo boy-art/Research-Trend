{
 "cells": [
  {
   "cell_type": "code",
   "execution_count": null,
   "metadata": {
    "collapsed": false
   },
   "outputs": [],
   "source": [
    "import os, pickle \n",
    "\n",
    "path= \"/home/jallen2/git/Research-Trend/sample\"\n",
    "sampleList= os.listdir(path)\n",
    "myList=[]\n",
    "for items in sampleList:\n",
    "    if \".xml\"in items:\n",
    "        myList.append(items)\n",
    "print(myList[0])\n"
   ]
  },
  {
   "cell_type": "code",
   "execution_count": null,
   "metadata": {
    "collapsed": false
   },
   "outputs": [],
   "source": [
    "/home/jallen2/git/Research-Trend/sample"
   ]
  },
  {
   "cell_type": "code",
   "execution_count": null,
   "metadata": {
    "collapsed": false
   },
   "outputs": [],
   "source": [
    "import os, pickle \n",
    "import glob\n",
    "path= \"sample\"\n",
    "myList = []\n",
    "for items in glob.glob(\"sample/*.xml\"):\n",
    "    print(items)\n",
    "    #open items first\n",
    "    for line in items:\n",
    "        if line.startswith(\"<rootTag>\"):\n",
    "            myList.append(items)\n",
    "print(myList)\n"
   ]
  },
  {
   "cell_type": "code",
   "execution_count": null,
   "metadata": {
    "collapsed": false
   },
   "outputs": [],
   "source": [
    "import glob\n",
    "import xml.etree.ElementTree as et\n",
    "\n",
    "global iDs, abstract \n",
    "iDs = []\n",
    "abstract = []\n",
    "def addAbstracttolist(abst):\n",
    "    if not abst:\n",
    "        abstract.append(\"N/A\")\n",
    "    else:\n",
    "        abstract.append(abst)\n",
    "def addIDtolist(ID):\n",
    "    iDs.append(ID)\n",
    "    \n",
    "for items in glob.glob(\"sample/0*.xml\"):\n",
    "    data = open(items)\n",
    "    str_data = data.read()\n",
    "    print()\n",
    "    xml_data = et.fromstring(str_data)\n",
    "    print(xml_data)\n",
    "    global award_list \n",
    "    award_list = xml_data.findall(\"Award\")\n",
    "    print(items.find(\"AwardID\"))\n",
    "#    addIDtolist(str(items.find(\"AwardID\")))\n",
    "#    addAbstracttolist(items.find(\"AbstractNarration\").text)\n",
    "   \n",
    "    \n",
    "for i in iDs:\n",
    "    print(iDs[i]+\":\",abstract[i])\n",
    "    "
   ]
  },
  {
   "cell_type": "code",
   "execution_count": 5,
   "metadata": {
    "collapsed": false,
    "scrolled": false
   },
   "outputs": [
    {
     "name": "stdout",
     "output_type": "stream",
     "text": [
      "Total With: 20794\n",
      "Total Without: 0\n",
      "With + Without: 20794\n",
      "Total Articles: 20794\n"
     ]
    }
   ],
   "source": [
    "\n",
    "import xml.etree.ElementTree as et\n",
    "import glob \n",
    "\n",
    "global awards\n",
    "awards=dict()\n",
    "without = 0\n",
    "T_an01 = 0 \n",
    "grandtotal = 0\n",
    "\n",
    "def addIDandAbs(ID,abstract):\n",
    "    for i in awards:\n",
    "        if i == ID:\n",
    "            print(\"Error\")\n",
    "            return\n",
    "    awards[ID] = abstract   \n",
    "for items in glob.glob(\"20*/*.xml\"): #Iterate through all xml files in the 200 directory\n",
    "    item = open(items)\n",
    "    str_data =  item.read()\n",
    "    data = et.fromstring(str_data)\n",
    "    an01 = data.find(\"Award\").find(\"AbstractNarration\")\n",
    "    if an01 is not None:\n",
    "        addIDandAbs(data.find(\"Award\").find(\"AwardID\").text,data.find(\"Award\").find(\"AbstractNarration\").text)\n",
    "        T_an01 = T_an01 + 1\n",
    "    else:\n",
    "        without = without + 1\n",
    "    grandtotal = grandtotal + 1\n",
    "\n",
    "print(\"Total With:\", T_an01)\n",
    "print(\"Total Without:\", without)\n",
    "print(\"With + Without:\", T_an01+without)\n",
    "print(\"Total Articles:\", grandtotal)\n",
    "        \n",
    "        \n",
    "#print(\"Total Abstracts:\",T_an01+T_grthan01)\n",
    "#print(\"Abstracts Not Found:\",x+y)\n",
    "    \n"
   ]
  },
  {
   "cell_type": "code",
   "execution_count": 10,
   "metadata": {
    "collapsed": false
   },
   "outputs": [
    {
     "name": "stdout",
     "output_type": "stream",
     "text": [
      "Test 20: 20794\n",
      "Test 2002 10948\n",
      "Test 2001 9846\n",
      "Total: 20794\n"
     ]
    }
   ],
   "source": [
    "import glob \n",
    "\n",
    "x = 0\n",
    "y = 0\n",
    "z = 0\n",
    " \n",
    "\n",
    "for items in glob.glob(\"20*/*.xml\"): \n",
    "    x = x+1\n",
    "for item in glob.glob(\"2002/*.xml\"):\n",
    "    y = y+1\n",
    "for item in glob.glob(\"2001/*.xml\"):\n",
    "    z = z+1\n",
    "    \n",
    "print(\"Test 20:\",x)\n",
    "print(\"Test 2002\",y)\n",
    "print(\"Test 2001\", z)\n",
    "print(\"Total:\", y+z)\n"
   ]
  },
  {
   "cell_type": "code",
   "execution_count": null,
   "metadata": {
    "collapsed": true
   },
   "outputs": [],
   "source": []
  }
 ],
 "metadata": {
  "kernelspec": {
   "display_name": "Anaconda 2.5.0 (Python 3)",
   "language": "python",
   "name": "anaconda_2.5.0_python3"
  },
  "language_info": {
   "codemirror_mode": {
    "name": "ipython",
    "version": 3
   },
   "file_extension": ".py",
   "mimetype": "text/x-python",
   "name": "python",
   "nbconvert_exporter": "python",
   "pygments_lexer": "ipython3",
   "version": "3.5.2"
  }
 },
 "nbformat": 4,
 "nbformat_minor": 0
}
