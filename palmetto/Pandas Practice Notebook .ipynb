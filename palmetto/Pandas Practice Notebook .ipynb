{
 "cells": [
  {
   "cell_type": "markdown",
   "metadata": {},
   "source": [
    "# Pandas Tutorial "
   ]
  },
  {
   "cell_type": "code",
   "execution_count": 1,
   "metadata": {
    "collapsed": false
   },
   "outputs": [],
   "source": [
    "import pandas as pd\n",
    "import datetime\n",
    "#from pandas_datareader import data, wb\n",
    "from matplotlib.pyplot import style \n",
    "style.use('ggplot')\n",
    "#Used to make a list in a list later \n",
    "import numpy as np \n",
    "\n",
    "\n",
    "web_stats = {'Day':[1,2,3,4,5,6],\n",
    "             'Visitors':[43,34,65,56,29,76],\n",
    "             'Bounce_Rate':[65,67,78,65,45,52]}\n",
    "df = pd.DataFrame(web_stats)\n",
    "\n",
    "#Used to set the index permenantly\n",
    "#If inplace isn't set to True it will simply return a data frame with the new index \n",
    "#and not alter the original \n",
    "df.set_index('Day', inplace=True)\n",
    "#print(df)\n"
   ]
  },
  {
   "cell_type": "code",
   "execution_count": null,
   "metadata": {
    "collapsed": false,
    "scrolled": true
   },
   "outputs": [],
   "source": [
    "#Referencing single columns\n",
    "\n",
    "#If there are spaces you can use the reference method below\n",
    "print(df['Visitors'])\n",
    "\n",
    "#The reference below is possible because there are no spaces in the column name \n",
    "#If there were spaces this reference could not be made \n",
    "print(df.Visitors)"
   ]
  },
  {
   "cell_type": "code",
   "execution_count": null,
   "metadata": {
    "collapsed": false
   },
   "outputs": [],
   "source": [
    "#Referencing Multiple columns \n",
    "\n",
    "print(df[['Bounce_Rate','Visitors']])"
   ]
  },
  {
   "cell_type": "code",
   "execution_count": 19,
   "metadata": {
    "collapsed": false
   },
   "outputs": [
    {
     "name": "stdout",
     "output_type": "stream",
     "text": [
      "[43, 34, 65, 56, 29, 76]\n"
     ]
    }
   ],
   "source": [
    "#Converting a column to a list \n",
    "\n",
    "print(df.Visitors.tolist())\n"
   ]
  },
  {
   "cell_type": "code",
   "execution_count": 22,
   "metadata": {
    "collapsed": false
   },
   "outputs": [
    {
     "name": "stdout",
     "output_type": "stream",
     "text": [
      "[[65 43]\n",
      " [67 34]\n",
      " [78 65]\n",
      " [65 56]\n",
      " [45 29]\n",
      " [52 76]]\n"
     ]
    }
   ],
   "source": [
    "#converting to an array using numpy \n",
    "\n",
    "print(np.array(df[['Bounce_Rate','Visitors']]))"
   ]
  },
  {
   "cell_type": "code",
   "execution_count": 3,
   "metadata": {
    "collapsed": false
   },
   "outputs": [
    {
     "name": "stdout",
     "output_type": "stream",
     "text": [
      "    0   1\n",
      "0  65  43\n",
      "1  67  34\n",
      "2  78  65\n",
      "3  65  56\n",
      "4  45  29\n",
      "5  52  76\n"
     ]
    }
   ],
   "source": [
    "#convert new array back to data frame \n",
    "df2 = pd.DataFrame(np.array(df[['Bounce_Rate','Visitors']]))\n",
    "print(df2)"
   ]
  },
  {
   "cell_type": "code",
   "execution_count": 4,
   "metadata": {
    "collapsed": false
   },
   "outputs": [
    {
     "name": "stdout",
     "output_type": "stream",
     "text": [
      "    0   1\n",
      "0  65  43\n",
      "1  67  34\n",
      "2  78  65\n",
      "3  65  56\n",
      "4  45  29\n"
     ]
    }
   ],
   "source": [
    "print(df2.head())"
   ]
  },
  {
   "cell_type": "code",
   "execution_count": null,
   "metadata": {
    "collapsed": true
   },
   "outputs": [],
   "source": []
  }
 ],
 "metadata": {
  "kernelspec": {
   "display_name": "Anaconda 2.5.0 (Python 3)",
   "language": "python",
   "name": "anaconda_2.5.0_python3"
  },
  "language_info": {
   "codemirror_mode": {
    "name": "ipython",
    "version": 3
   },
   "file_extension": ".py",
   "mimetype": "text/x-python",
   "name": "python",
   "nbconvert_exporter": "python",
   "pygments_lexer": "ipython3",
   "version": "3.5.2"
  }
 },
 "nbformat": 4,
 "nbformat_minor": 1
}
