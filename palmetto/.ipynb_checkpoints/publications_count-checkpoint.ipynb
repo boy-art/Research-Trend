{
 "cells": [
  {
   "cell_type": "code",
   "execution_count": null,
   "metadata": {
    "collapsed": false
   },
   "outputs": [],
   "source": [
    "import csv\n",
    "import os\n",
    "import subprocess\n",
    "import pandas as pd\n",
    "import numpy as np\n",
    "import glob\n",
    "import matplotlib.pyplot as plt"
   ]
  },
  {
   "cell_type": "code",
   "execution_count": null,
   "metadata": {
    "collapsed": false
   },
   "outputs": [],
   "source": [
    "# partial user list, acquired from /etc/passwd\n",
    "home_list = subprocess.check_output(['ls', '/home']).decode('utf-8').strip().split('\\n')\n",
    "passwd_list = subprocess.check_output(['cat', '/etc/passwd']).decode('utf-8').strip().split('\\n')\n",
    "users_frame_palmetto = pd.DataFrame()\n",
    "\n",
    "list_ = []\n",
    "for entry in passwd_list:\n",
    "    tmp_ = entry.split(':')\n",
    "    if tmp_[0] in home_list:\n",
    "        list_.append([tmp_[0],tmp_[4]])\n",
    "        \n",
    "users_frame_palmetto = pd.DataFrame(list_,columns=['userID','FullName'])"
   ]
  },
  {
   "cell_type": "code",
   "execution_count": null,
   "metadata": {
    "collapsed": false
   },
   "outputs": [],
   "source": [
    "# full user list, from Marcin's records\n",
    "# This does not work well because full name: i.e: Alex Feltus (publication) versus Alexander Feltus (users.csv) \n",
    "users_frame_file = pd.DataFrame()\n",
    "userFile = 'palmetto_data/Users.csv'\n",
    "\n",
    "list_ = []\n",
    "with open(userFile, mode = 'r') as infile:\n",
    "    reader = csv.reader(infile)\n",
    "    next(reader, None)\n",
    "    for row in reader:\n",
    "        list_.append(row)\n",
    "\n",
    "users_frame_file = pd.DataFrame(list_,columns=['LocalUserId', 'FullName', 'Rank', 'Title', 'Major', 'Department', 'College'])"
   ]
  },
  {
   "cell_type": "code",
   "execution_count": null,
   "metadata": {
    "collapsed": false
   },
   "outputs": [],
   "source": [
    "# combine lists, from both /etc/passwd and Users.csv\n",
    "userName = {}\n",
    "for index, row in users_frame_palmetto.iterrows():\n",
    "    try:\n",
    "        fullName = row['FullName'].split(' ')\n",
    "        fullName = [x.strip() for x in fullName]\n",
    "        fullName = [x.lower() for x in fullName]\n",
    "        lastName = fullName[len(fullName) - 1]\n",
    "        if (lastName not in userName):\n",
    "            userName[lastName] = {}\n",
    "            userName[lastName]['0'] = fullName[:(len(fullName) - 1)]\n",
    "        else:\n",
    "            userName[lastName][str(len(userName[lastName]))] = fullName[:(len(fullName) - 1)]\n",
    "    except AttributeError:\n",
    "        continue\n",
    "        \n",
    "for index, row in users_frame_file.iterrows():\n",
    "    try:\n",
    "        fullName = row['FullName'].split(' ')\n",
    "        fullName = [x.strip() for x in fullName]\n",
    "        fullName = [x.lower() for x in fullName]\n",
    "        lastName = fullName[len(fullName) - 1]\n",
    "        if (lastName not in userName):\n",
    "            userName[lastName] = {}\n",
    "            userName[lastName]['0'] = fullName[:(len(fullName) - 1)]\n",
    "        else:\n",
    "            userName[lastName][str(len(userName[lastName]))] = fullName[:(len(fullName) - 1)]\n",
    "    except AttributeError:\n",
    "        continue\n",
    "#print (userName)"
   ]
  },
  {
   "cell_type": "code",
   "execution_count": null,
   "metadata": {
    "collapsed": false
   },
   "outputs": [],
   "source": [
    "allFiles = glob.glob('publications' + '/*.txt')\n",
    "frame = pd.DataFrame()\n",
    "list_ = []\n",
    "for file_ in allFiles:\n",
    "    df = pd.read_table(file_,index_col=None, header=0, delimiter='\\t')\n",
    "    list_.append(df)\n",
    "frame = pd.concat(list_)\n",
    "print (frame.shape)\n",
    "\n",
    "colnames = frame.columns.values.tolist()\n",
    "print (colnames)"
   ]
  },
  {
   "cell_type": "code",
   "execution_count": null,
   "metadata": {
    "collapsed": false
   },
   "outputs": [],
   "source": [
    "# check if any author has more than three phrases for full name in publication:\n",
    "'''\n",
    "for index, row in frame.iterrows():\n",
    "    try:\n",
    "        authors_list = row['AU'].split(';')\n",
    "        for author in authors_list:\n",
    "            publicationName = author.split(',')\n",
    "            publicationName = [x.strip().lower for x in publicationName]\n",
    "            if (len(publicationName) > 2):\n",
    "                print (index, author)\n",
    "    except AttributeError:\n",
    "        continue\n",
    "'''"
   ]
  },
  {
   "cell_type": "code",
   "execution_count": null,
   "metadata": {
    "collapsed": false
   },
   "outputs": [],
   "source": [
    "# Plot number of publications per year\n",
    "years = list(set(frame['PY']))\n",
    "years.sort()\n",
    "print (years)\n",
    "\n",
    "keyword_list = ['computation', 'compute', 'simulation', 'computational', 'simulate', 'genome',\n",
    "               'sequence', 'sequencing', 'molecule', 'large scale', 'large-scale', 'massive', \n",
    "                'hpc', 'molecular', 'simulations', 'genomic']\n",
    "\n",
    "keyword_counts = pd.Series(np.zeros(len(years)), index=years)\n",
    "\n",
    "all_publications = pd.Series(np.zeros(len(years)), index=years)\n",
    "one_publications = pd.Series(np.zeros(len(years)), index=years)\n",
    "multi_publications = pd.Series(np.zeros(len(years)), index=years)\n",
    "\n",
    "for index, row in frame.iterrows():\n",
    "    authorCount = 0\n",
    "    all_publications.loc[row['PY']] += 1.0\n",
    "    try:\n",
    "        authors_list = row['AU'].split(';')\n",
    "        for author in authors_list:\n",
    "            authorName = author.split(',')\n",
    "            authorName = [x.strip().lower() for x in authorName]\n",
    "            if (authorName[0] in userName):\n",
    "                try:\n",
    "                    authorFirstName = authorName[1].split(' ')\n",
    "                except IndexError:\n",
    "                    print (\"Error: \", authorName)\n",
    "                for key in userName[authorName[0]]:\n",
    "                    if (authorFirstName[0] in userName[authorName[0]][key]):\n",
    "                        #print (authorName, \" = \", userName[authorName[0]][key], index)\n",
    "                        authorCount += 1                      \n",
    "    except AttributeError:\n",
    "        continue\n",
    "    if (authorCount > 0):\n",
    "        one_publications.loc[row['PY']] += 1.0\n",
    "        try:\n",
    "            abstract_words = row['AB'].split(' ')\n",
    "            abstract_words = [x.strip().lower() for x in abstract_words]\n",
    "            for word in keyword_list:\n",
    "                if word in abstract_words:\n",
    "                    keyword_counts.loc[row['PY']] += 1.0\n",
    "                    break\n",
    "        except AttributeError:\n",
    "            continue\n",
    "    if (authorCount > 1):\n",
    "        multi_publications.loc[row['PY']] += 1.0\n"
   ]
  },
  {
   "cell_type": "code",
   "execution_count": null,
   "metadata": {
    "collapsed": false
   },
   "outputs": [],
   "source": [
    "%matplotlib inline\n",
    "\n",
    "all_growth = pd.Series(np.zeros(len(years)), index=years)\n",
    "one_growth = pd.Series(np.zeros(len(years)), index=years)\n",
    "multi_growth = pd.Series(np.zeros(len(years)), index=years)\n",
    "\n",
    "for i in range(1, len(years)):\n",
    "    all_growth.iloc[i] = all_publications.iloc[i] - all_publications.iloc[i-1]\n",
    "    one_growth.iloc[i] = one_publications.iloc[i] - one_publications.iloc[i-1]\n",
    "    multi_growth.iloc[i] = multi_publications.iloc[i] - multi_publications.iloc[i-1]\n",
    "    \n",
    "xlab = [str(x) for x in years]\n",
    "\n",
    "plt.plot(all_growth)\n",
    "plt.plot(one_growth)\n",
    "plt.plot(multi_growth)\n",
    "plt.xticks(years, xlab, rotation='vertical')\n",
    "plt.xlabel('Years')\n",
    "plt.ylabel('Counts')\n",
    "plt.title('Rates of increase in publications')\n",
    "plt.axis([2007, 2016, -300, 400])\n",
    "plt.grid(True)\n",
    "plt.legend(['All', 'at least one author', 'at least two authors'], loc='upper right', fontsize=8)\n",
    "plt.show()"
   ]
  },
  {
   "cell_type": "code",
   "execution_count": null,
   "metadata": {
    "collapsed": false
   },
   "outputs": [],
   "source": [
    "%matplotlib inline\n",
    "\n",
    "xlab = [str(x) for x in years]\n",
    "\n",
    "plt.plot(all_publications[0:11])\n",
    "plt.plot(one_publications[0:11])\n",
    "plt.plot(multi_publications[0:11])\n",
    "plt.xticks(years, xlab, rotation='vertical')\n",
    "plt.xlabel('Years')\n",
    "plt.ylabel('Counts')\n",
    "plt.title('Publication Counts')\n",
    "plt.axis([2007, 2016, 0, 2500])\n",
    "plt.grid(True)\n",
    "plt.legend(['All', 'at least one author', 'at least two authors'], loc='upper left', fontsize=8)\n",
    "plt.show()"
   ]
  },
  {
   "cell_type": "code",
   "execution_count": null,
   "metadata": {
    "collapsed": false
   },
   "outputs": [],
   "source": [
    "print(all_publications)\n",
    "print(one_publications)\n",
    "print(multi_publications)\n",
    "print(keyword_counts)"
   ]
  },
  {
   "cell_type": "code",
   "execution_count": null,
   "metadata": {
    "collapsed": false
   },
   "outputs": [],
   "source": [
    "print (one_publications/all_publications)\n",
    "print (multi_publications/all_publications)"
   ]
  },
  {
   "cell_type": "code",
   "execution_count": null,
   "metadata": {
    "collapsed": false
   },
   "outputs": [],
   "source": [
    "!cat /etc/passwd"
   ]
  }
 ],
 "metadata": {
  "kernelspec": {
   "display_name": "Python 3",
   "language": "python",
   "name": "python3"
  },
  "language_info": {
   "codemirror_mode": {
    "name": "ipython",
    "version": 3
   },
   "file_extension": ".py",
   "mimetype": "text/x-python",
   "name": "python",
   "nbconvert_exporter": "python",
   "pygments_lexer": "ipython3",
   "version": "3.5.2"
  }
 },
 "nbformat": 4,
 "nbformat_minor": 1
}
