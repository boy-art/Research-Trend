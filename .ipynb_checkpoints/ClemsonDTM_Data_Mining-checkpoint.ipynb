{
 "cells": [
  {
   "cell_type": "code",
   "execution_count": 1,
   "metadata": {
    "collapsed": false
   },
   "outputs": [
    {
     "name": "stdout",
     "output_type": "stream",
     "text": [
      "\n",
      "Number of Topics: 55\n",
      "done\n"
     ]
    }
   ],
   "source": [
    "from bs4 import BeautifulSoup\n",
    "from gensim import corpora\n",
    "from pprint import pprint \n",
    "from collections import defaultdict\n",
    "import glob \n",
    "\n",
    "\n",
    "#Array storage for Award IDs and Abstracts \n",
    "awardabs_ar=[]\n",
    "aID_ar=[]\n",
    "doct_div2 = []\n",
    "doc_div = []\n",
    "    \n",
    "for items in glob.glob(\"201*/*.xml\"): #Iterate through all xml files in the directory/file name given\n",
    "    \n",
    "    #Open files\n",
    "    item = open(items)\n",
    "    \n",
    "    #Store Data\n",
    "    xml = item.read()\n",
    "    \n",
    "    #Convert data to text \n",
    "    soup = BeautifulSoup(xml,'xml')\n",
    "    \n",
    "    #store the current name of the institution \n",
    "    clemson = soup.Name.string\n",
    "    \n",
    "    #Check if the name matches Clemson University \n",
    "    #if clemson==\"Clemson University\":\n",
    "    #Add award ID \n",
    "    ID = soup.AwardID.string\n",
    "    aID_ar.append(ID)\n",
    "    \n",
    "    #filter data if not None Type, Error checking  \n",
    "    if soup.AbstractNarration.string is not None:     \n",
    "        abst = soup.AbstractNarration.string\n",
    "        #Adds abstracts to its list \n",
    "        awardabs_ar.append(abst)\n",
    "        \n",
    "    #Determine the number of topics if not None Type, error checking \n",
    "    if soup.Directorate.LongName.string is not None:\n",
    "        doct = soup.Directorate.LongName.string\n",
    "    if soup.Division.LongName.string is not None:\n",
    "        div = soup.Division.LongName.string\n",
    "    #concatenate Directorate and Divison names for testing \n",
    "    test = doct + \"\\t\" + div\n",
    "        \n",
    "    #All Directorates and Divisions stored \n",
    "    doc_div.append(test)\n",
    "        \n",
    "    #No duplicate Directorate and Division combinations \n",
    "    if test not in doct_div2:\n",
    "        doct_div2.append(test)\n",
    "\n",
    "topic = len(doct_div2)\n",
    "print(\"\\nNumber of Topics:\", topic)\n",
    "\n",
    "#All Abstracts \n",
    "file=open(\"cu_tigers.txt\",\"w\")    \n",
    "for lines in awardabs_ar:\n",
    "    file.write(lines)\n",
    "    file.write('\\n')\n",
    "file.close()\n",
    "\n",
    "#All Xml Award IDs \n",
    "file2=open(\"cu_IDs.txt\",\"w\")    \n",
    "for lines in aID_ar:\n",
    "    file2.write(lines)\n",
    "    file2.write('\\n')\n",
    "file2.close()\n",
    "\n",
    "#No Dublicate Directorates and Division Combos \n",
    "file3=open(\"cu_doc_div2.txt\",\"w\")    \n",
    "for lines in doct_div2:\n",
    "    file3.write(lines)\n",
    "    file3.write('\\n')\n",
    "file3.close()\n",
    "\n",
    "#All Directorates and Divisions \n",
    "file4=open(\"cu_doc_div.txt\",\"w\")    \n",
    "for lines in doc_div:\n",
    "    file4.write(lines)\n",
    "    file4.write('\\n')\n",
    "file4.close()\n",
    "\n",
    "print(\"done\")"
   ]
  },
  {
   "cell_type": "code",
   "execution_count": 51,
   "metadata": {
    "collapsed": false
   },
   "outputs": [
    {
     "name": "stdout",
     "output_type": "stream",
     "text": [
      "[]\n"
     ]
    },
    {
     "data": {
      "text/plain": [
       "<function matplotlib.pyplot.show>"
      ]
     },
     "execution_count": 51,
     "metadata": {},
     "output_type": "execute_result"
    },
    {
     "data": {
      "image/png": "[encoded data removed]",
      "text/plain": [
       "<matplotlib.figure.Figure at 0x2b8e7693af60>"
      ]
     },
     "metadata": {},
     "output_type": "display_data"
    }
   ],
   "source": [
    "from bs4 import BeautifulSoup #import module \n",
    "from gensim import corpora, models, similarities\n",
    "import gensim \n",
    "import matplotlib.pyplot as plt\n",
    "\n",
    "%matplotlib inline\n",
    "\n",
    "file = open(\"2015/1500004.xml\") #open xml file \n",
    "\n",
    "xml = file.read() #read file \n",
    "\n",
    "soup = BeautifulSoup(xml,'xml') #convert to text \n",
    "\n",
    "dictionary = [soup.AbstractNarration.string]\n",
    "\n",
    "#removed word list    \n",
    "read_words = open('stopwords.txt', 'r')\n",
    "r_words = read_words.readline()\n",
    "\n",
    "stoplist = set(r_words.split())\n",
    "\n",
    "#remove stop words\n",
    "texts = [[word for word in doc.lower().split() if word not in stoplist] for doc in dictionary]\n",
    "\n",
    "\n",
    "# turns our tokenized documents into a id <-> term dictionary\n",
    "dicti = corpora.Dictionary(texts)\n",
    "\n",
    "doc1 = [\"random words to check code against words fun hey you there bag good\"]\n",
    "\n",
    "words = dicti.doc2bow(doc1[0].lower().split())\n",
    "\n",
    "print(words)\n",
    "\n",
    "#convert tokenized documents into a document-term matrix\n",
    "corpus = [dicti.doc2bow(text) for text in texts]\n",
    "\n",
    "\n",
    "#generate LDA model\n",
    "ldamodel = gensim.models.ldamodel.LdaModel(corpus, num_topics=1, id2word=dicti,passes=20)\n",
    "\n",
    "\n",
    "plt.plot([x[0] for x in vec],[x[1] for x in vec])\n",
    "plt.xlabel('Topics (0-55)')\n",
    "plt.ylabel('Probability of Correlation with Topics')\n",
    "plt.title('Topic Model Correlation Chart')\n",
    "\n",
    "plt.show\n",
    "\n"
   ]
  },
  {
   "cell_type": "code",
   "execution_count": 20,
   "metadata": {
    "collapsed": false
   },
   "outputs": [
    {
     "name": "stdout",
     "output_type": "stream",
     "text": [
      "shot  nice there \n"
     ]
    }
   ],
   "source": [
    "words = \"Hey there man nice shot\"\n",
    "words1 = []\n",
    "\n",
    "words2 = set(words.lower().split())\n",
    "\n",
    "items = [\"hey\",\"man\"]\n",
    "\n",
    "for lines in words2:\n",
    "    for item in items:\n",
    "        lines = lines.replace(item,'')\n",
    "    words1.append(lines)\n",
    "\n",
    "words3 = ' '.join(str(w) for w in words1)\n",
    "print(words3)"
   ]
  },
  {
   "cell_type": "code",
   "execution_count": null,
   "metadata": {
    "collapsed": true
   },
   "outputs": [],
   "source": []
  }
 ],
 "metadata": {
  "kernelspec": {
   "display_name": "Anaconda 2.5.0 (Python 3)",
   "language": "python",
   "name": "anaconda_2.5.0_python3"
  },
  "language_info": {
   "codemirror_mode": {
    "name": "ipython",
    "version": 3
   },
   "file_extension": ".py",
   "mimetype": "text/x-python",
   "name": "python",
   "nbconvert_exporter": "python",
   "pygments_lexer": "ipython3",
   "version": "3.5.2"
  }
 },
 "nbformat": 4,
 "nbformat_minor": 1
}
