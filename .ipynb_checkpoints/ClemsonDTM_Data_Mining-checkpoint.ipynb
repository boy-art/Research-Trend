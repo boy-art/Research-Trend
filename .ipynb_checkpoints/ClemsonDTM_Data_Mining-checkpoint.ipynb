{
 "cells": [
  {
   "cell_type": "code",
   "execution_count": 4,
   "metadata": {
    "collapsed": false
   },
   "outputs": [
    {
     "name": "stdout",
     "output_type": "stream",
     "text": [
      "\n",
      "Number of Topics: 25\n",
      "done\n"
     ]
    }
   ],
   "source": [
    "from bs4 import BeautifulSoup\n",
    "from gensim import corpora\n",
    "from pprint import pprint \n",
    "from collections import defaultdict\n",
    "import glob \n",
    "\n",
    "\n",
    "#Array storage for Award IDs and Abstracts \n",
    "awardabs_ar=[]\n",
    "aID_ar=[]\n",
    "doct_div2 = []\n",
    "doc_div = []\n",
    "\n",
    "#Used as a condition for later statement \n",
    "x = 0\n",
    "\n",
    "    \n",
    "for items in glob.glob(\"201*/*.xml\"): #Iterate through all xml files in the directory/file name given\n",
    "    \n",
    "    #Open files\n",
    "    item = open(items)\n",
    "    \n",
    "    #Store Data\n",
    "    xml = item.read()\n",
    "    \n",
    "    #Convert data to text \n",
    "    soup = BeautifulSoup(xml,'xml')\n",
    "    \n",
    "    #store the current name of the institution \n",
    "    clemson = soup.Name.string\n",
    "    \n",
    "    #Check if the name matches Clemson University \n",
    "    if clemson==\"Clemson University\":\n",
    "        \n",
    "        #Add award ID \n",
    "        ID = soup.AwardID.string\n",
    "        aID_ar.append(ID)\n",
    "        \n",
    "        #Award Abstracts\n",
    "        abst = soup.AbstractNarration.string.replace('<br/>','').replace(',','').replace('.','').replace('\\n','').replace('!','').replace('?','').replace('(1)','').replace('(2)','')\n",
    "        awardabs_ar.append(abst)\n",
    "        \n",
    "        #Determine the number of topics\n",
    "        doct = soup.Directorate.LongName.string\n",
    "        div = soup.Division.LongName.string\n",
    "        test = doct + \"\\t\" + div\n",
    "        \n",
    "        #All Directorates and Divisions\n",
    "        doc_div.append(test)\n",
    "        \n",
    "        #No duplicate Directorate and Division combo\n",
    "        if test not in doct_div2:\n",
    "            doct_div2.append(test)\n",
    "\n",
    "topic = len(doct_div2)\n",
    "print(\"\\nNumber of Topics:\", topic)\n",
    "\n",
    "#All Abstracts \n",
    "file=open(\"cu_tigers.txt\",\"w\")    \n",
    "for lines in awardabs_ar:\n",
    "    file.write(lines)\n",
    "    file.write('\\n')\n",
    "file.close()\n",
    "\n",
    "#All Xml Award IDs \n",
    "file2=open(\"cu_IDs.txt\",\"w\")    \n",
    "for lines in aID_ar:\n",
    "    file2.write(lines)\n",
    "    file2.write('\\n')\n",
    "file2.close()\n",
    "\n",
    "#No Dublicate Directorates and Division Combos \n",
    "file3=open(\"cu_doc_div2.txt\",\"w\")    \n",
    "for lines in doct_div2:\n",
    "    file3.write(lines)\n",
    "    file3.write('\\n')\n",
    "file3.close()\n",
    "\n",
    "#All Directorates and Divisions \n",
    "file4=open(\"cu_doc_div.txt\",\"w\")    \n",
    "for lines in doc_div:\n",
    "    file4.write(lines)\n",
    "    file4.write('\\n')\n",
    "file4.close()\n",
    "\n",
    "print(\"done\")"
   ]
  },
  {
   "cell_type": "code",
   "execution_count": null,
   "metadata": {
    "collapsed": true
   },
   "outputs": [],
   "source": []
  }
 ],
 "metadata": {
  "kernelspec": {
   "display_name": "Anaconda 2.5.0 (Python 3)",
   "language": "python",
   "name": "anaconda_2.5.0_python3"
  },
  "language_info": {
   "codemirror_mode": {
    "name": "ipython",
    "version": 3
   },
   "file_extension": ".py",
   "mimetype": "text/x-python",
   "name": "python",
   "nbconvert_exporter": "python",
   "pygments_lexer": "ipython3",
   "version": "3.5.2"
  }
 },
 "nbformat": 4,
 "nbformat_minor": 1
}
