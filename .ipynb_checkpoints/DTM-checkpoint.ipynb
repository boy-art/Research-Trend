{
 "cells": [
  {
   "cell_type": "code",
   "execution_count": 9,
   "metadata": {
    "collapsed": false
   },
   "outputs": [
    {
     "name": "stdout",
     "output_type": "stream",
     "text": [
      "0196500.xml\n"
     ]
    }
   ],
   "source": [
    "import os, pickle \n",
    "\n",
    "path= \"/home/jallen2/git/Research-Trend/sample\"\n",
    "sampleList= os.listdir(path)\n",
    "myList=[]\n",
    "for items in sampleList:\n",
    "    if \".xml\"in items:\n",
    "        myList.append(items)\n",
    "print(myList[0])\n"
   ]
  },
  {
   "cell_type": "code",
   "execution_count": null,
   "metadata": {
    "collapsed": false
   },
   "outputs": [],
   "source": [
    "/home/jallen2/git/Research-Trend/sample"
   ]
  },
  {
   "cell_type": "code",
   "execution_count": 6,
   "metadata": {
    "collapsed": false
   },
   "outputs": [
    {
     "name": "stdout",
     "output_type": "stream",
     "text": [
      "sample/0196500.xml\n",
      "sample/0196501.xml\n",
      "sample/0196502.xml\n",
      "sample/0196503.xml\n",
      "sample/0196504.xml\n",
      "sample/0196505.xml\n",
      "sample/0196506.xml\n",
      "sample/0196507.xml\n",
      "sample/0196508.xml\n",
      "sample/0196509.xml\n",
      "sample/0196510.xml\n",
      "sample/0196511.xml\n",
      "sample/0196512.xml\n",
      "sample/0196513.xml\n",
      "sample/0196514.xml\n",
      "sample/0196515.xml\n",
      "sample/0196516.xml\n",
      "sample/0196517.xml\n",
      "sample/0196518.xml\n",
      "sample/0196519.xml\n",
      "sample/0196520.xml\n",
      "sample/0196521.xml\n",
      "sample/0196522.xml\n",
      "sample/0196523.xml\n",
      "sample/0196524.xml\n",
      "sample/0196525.xml\n",
      "sample/0196526.xml\n",
      "sample/0196527.xml\n",
      "sample/0196528.xml\n",
      "sample/0196529.xml\n",
      "sample/0196530.xml\n",
      "sample/0196531.xml\n",
      "sample/0196532.xml\n",
      "sample/0196533.xml\n",
      "sample/0196534.xml\n",
      "sample/0196535.xml\n",
      "sample/0196536.xml\n",
      "sample/0196537.xml\n",
      "sample/0196538.xml\n",
      "sample/0196539.xml\n",
      "sample/0196540.xml\n",
      "sample/0196541.xml\n",
      "sample/0196542.xml\n",
      "sample/0196543.xml\n",
      "sample/0196544.xml\n",
      "sample/0196545.xml\n",
      "sample/0196546.xml\n",
      "sample/0196547.xml\n",
      "sample/0196548.xml\n",
      "sample/0196549.xml\n",
      "sample/0196550.xml\n",
      "sample/0196551.xml\n",
      "sample/0196552.xml\n",
      "sample/0196553.xml\n",
      "sample/0196554.xml\n",
      "sample/0196555.xml\n",
      "sample/0196556.xml\n",
      "sample/0196557.xml\n",
      "sample/0196558.xml\n",
      "sample/0196559.xml\n",
      "sample/0196560.xml\n",
      "sample/0196561.xml\n",
      "sample/0196562.xml\n",
      "sample/0196563.xml\n",
      "sample/0196564.xml\n",
      "sample/0196565.xml\n",
      "sample/0196566.xml\n",
      "sample/0196567.xml\n",
      "sample/0196568.xml\n",
      "sample/0196569.xml\n",
      "sample/0196570.xml\n",
      "sample/0196571.xml\n",
      "[]\n"
     ]
    }
   ],
   "source": [
    "import os, pickle \n",
    "import glob\n",
    "path= \"sample\"\n",
    "myList = []\n",
    "for items in glob.glob(\"sample/*.xml\"):\n",
    "    print(items)\n",
    "    #open items first\n",
    "    for line in items:\n",
    "        if line.startswith(\"<rootTag>\"):\n",
    "            myList.append(items)\n",
    "print(myList)\n"
   ]
  },
  {
   "cell_type": "code",
   "execution_count": 61,
   "metadata": {
    "collapsed": false
   },
   "outputs": [
    {
     "name": "stdout",
     "output_type": "stream",
     "text": [
      "cat: model.py: No such file or directory\r\n"
     ]
    }
   ],
   "source": [
    "!cat model.py"
   ]
  },
  {
   "cell_type": "code",
   "execution_count": 4,
   "metadata": {
    "collapsed": false
   },
   "outputs": [],
   "source": [
    "?os.listdir"
   ]
  }
 ],
 "metadata": {
  "kernelspec": {
   "display_name": "Anaconda 2.5.0 (Python 3)",
   "language": "python",
   "name": "anaconda_2.5.0_python3"
  },
  "language_info": {
   "codemirror_mode": {
    "name": "ipython",
    "version": 3
   },
   "file_extension": ".py",
   "mimetype": "text/x-python",
   "name": "python",
   "nbconvert_exporter": "python",
   "pygments_lexer": "ipython3",
   "version": "3.5.2"
  }
 },
 "nbformat": 4,
 "nbformat_minor": 0
}
