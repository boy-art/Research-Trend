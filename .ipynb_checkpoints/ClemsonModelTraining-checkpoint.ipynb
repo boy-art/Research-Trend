{
 "cells": [
  {
   "cell_type": "code",
   "execution_count": null,
   "metadata": {
    "collapsed": false
   },
   "outputs": [],
   "source": [
    "from gensim import corpora, models\n",
    "from collections import defaultdict\n",
    "import gensim\n",
    "\n",
    "\n",
    "# compile sample documents into a list\n",
    "file = open('cu_test_doc1.txt', 'r')\n",
    "dictionary = file.readlines()\n",
    "\n",
    "#removed word list    \n",
    "read_words = open('stopwords.txt', 'r')\n",
    "r_words = read_words.readline()\n",
    "\n",
    "#remove common words and tokenize\n",
    "stoplist = set(r_words.split())\n",
    "\n",
    "texts = [[word for word in document.lower().split() if word not in stoplist]\n",
    "          for document in dictionary]\n",
    "\n",
    "# turn our tokenized documents into a id <-> term dictionary\n",
    "dictionary = corpora.Dictionary(texts)\n",
    "dictionary.save('/tmp/cu_dict.dict')\n",
    "\n",
    "#convert tokenized documents into a document-term matrix\n",
    "corpus = [dictionary.doc2bow(text) for text in texts]\n",
    "corpora.MmCorpus.serialize('/tmp/cu_corpus.mm', corpus)\n",
    "\n",
    "# generate LDA model\n",
    "ldamodel = gensim.models.ldamodel.LdaModel(corpus, num_topics=25, id2word = dictionary, passes=25)\n",
    "\n",
    "ldamodel.save('/tmp/CuModel.lda')\n",
    "\n",
    "print(\"done\")\n"
   ]
  },
  {
   "cell_type": "code",
   "execution_count": null,
   "metadata": {
    "collapsed": true
   },
   "outputs": [],
   "source": [
    "\n"
   ]
  },
  {
   "cell_type": "code",
   "execution_count": null,
   "metadata": {
    "collapsed": false
   },
   "outputs": [],
   "source": [
    "\n",
    "\n",
    "\n",
    "\n",
    "\n",
    "\n",
    "\n",
    "\n",
    "\n"
   ]
  },
  {
   "cell_type": "code",
   "execution_count": 13,
   "metadata": {
    "collapsed": false
   },
   "outputs": [
    {
     "name": "stdout",
     "output_type": "stream",
     "text": [
      "done\n"
     ]
    }
   ],
   "source": [
    "from gensim import corpora, models\n",
    "from collections import defaultdict\n",
    "import gensim\n",
    "\n",
    "class prob:\n",
    "        slices = 0\n",
    "        def __init__(self):\n",
    "                self.twenty = []\n",
    "                prob.slices += 1\n",
    "        def __del__(self):\n",
    "                prob.slices -= 1\n",
    "class test:\n",
    "        def __init__(self):\n",
    "             self.box = []\n",
    "def filtered(*args):\n",
    "        #removed word list    \n",
    "        read_words = open('stopwords.txt', 'r')\n",
    "        r_words = read_words.readline()\n",
    "        #remove common words and tokenize\n",
    "        stoplist = set(r_words.split())\n",
    "\n",
    "        texts = [[word for word in document.lower().split() if word not in stoplist]\n",
    "                  for document in args]\n",
    "        return texts\n",
    "class iterator:\n",
    "        n = 0\n",
    "        def __init__(self):\n",
    "                iterator.n += 1\n",
    "#Outputs 20% side of the abstracts             \n",
    "def outputfile(*args): \n",
    "        num = iterator()\n",
    "        number = num.n\n",
    "        file=open(\"cu_test_doc\"+str(number)+\".txt\",\"w\")    \n",
    "        for line in args:\n",
    "            file.write(line)\n",
    "            file.write(\"\\n\")\n",
    "        file.close()\n",
    "        \n",
    "        \n",
    "#Objects that hold the abstract array slices \n",
    "L20_1 = prob()\n",
    "L20_2 = prob()\n",
    "L20_3 = prob()\n",
    "L20_4 = prob()\n",
    "L20_5 = prob()\n",
    "\n",
    "t80 = test()\n",
    "t20 = test()\n",
    "\n",
    "#abstracts\n",
    "file = open('cu_tigers.txt', 'r')\n",
    "dictionary = file.readlines()\n",
    "\n",
    "l1 = L20_1.twenty = dictionary[:20] #first 20\n",
    "l2 = L20_2.twenty = dictionary[20:40] #second 20 \n",
    "l3 = L20_3.twenty = dictionary[40:60] #third 20 \n",
    "l4 = L20_4.twenty = dictionary[60:80] #fourth 20\n",
    "l5 = L20_5.twenty = dictionary[80:98] #last 18 \n",
    "\n",
    "\n",
    "\n",
    "#Comparison 1\n",
    "t8a = t80.box = l2 + l3 + l4 + l5 \n",
    "t2a = t20.box = l1 \n",
    "outputfile(*l1)\n",
    "#Comparison 2\n",
    "t8b = t80.box = l1 + l3 + l4 + l5 \n",
    "t2b = t20.box = l2  \n",
    "outputfile(*l2)\n",
    "#Comparison 3\n",
    "t8c = t80.box = l1 + l2 + l4 + l5  \n",
    "t2c = t20.box = l3 \n",
    "outputfile(*l3)\n",
    "#Comparison 4\n",
    "t8d = t80.box = l1 + l2 + l3 + l5 \n",
    "t2d = t20.box = l4 \n",
    "outputfile(*l4)\n",
    "#Comparison 5\n",
    "t8e = t80.box = l1 + l2 + l3 + l4 \n",
    "t2e = t20.box = l5 \n",
    "outputfile(*l5)\n",
    "\n",
    "\"\"\"\n",
    "#Dictionary 1 - 5 \n",
    "dictionary1 = corpora.Dictionary(filtered(*t8a))\n",
    "dictionary1.save('/tmp/cu_dict1.dict')\n",
    "dictionary2 = corpora.Dictionary(filtered(*t8b))\n",
    "dictionary2.save('/tmp/cu_dict2.dict')\n",
    "dictionary3 = corpora.Dictionary(filtered(*t8c))\n",
    "dictionary3.save('/tmp/cu_dict3.dict')\n",
    "dictionary4 = corpora.Dictionary(filtered(*t8d))\n",
    "dictionary4.save('/tmp/cu_dict4.dict')\n",
    "dictionary5 = corpora.Dictionary(filtered(*t8e))\n",
    "dictionary5.save('/tmp/cu_dict5.dict')\n",
    "\n",
    "\n",
    "\n",
    "#corpus 1 - 5\n",
    "corpus1 = [dictionary1.doc2bow(text) for text in filtered(*t8a)]\n",
    "corpora.MmCorpus.serialize('/tmp/cu_corpus1.mm', corpus1)\n",
    "corpus2 = [dictionary2.doc2bow(text) for text in filtered(*t8b)]\n",
    "corpora.MmCorpus.serialize('/tmp/cu_corpus2.mm', corpus2)\n",
    "corpus3 = [dictionary3.doc2bow(text) for text in filtered(*t8c)]\n",
    "corpora.MmCorpus.serialize('/tmp/cu_corpus3.mm', corpus3)\n",
    "corpus4 = [dictionary4.doc2bow(text) for text in filtered(*t8d)]\n",
    "corpora.MmCorpus.serialize('/tmp/cu_corpus4.mm', corpus4)\n",
    "corpus5 = [dictionary5.doc2bow(text) for text in filtered(*t8e)]\n",
    "corpora.MmCorpus.serialize('/tmp/cu_corpus5.mm', corpus5)\n",
    "\n",
    "\n",
    "# generate LDA model\n",
    "ldamodel1 = gensim.models.ldamodel.LdaModel(corpus1, num_topics=25, id2word = dictionary1, passes=20)\n",
    "ldamodel1.save('/tmp/CuModel_1.lda')\n",
    "ldamodel2 = gensim.models.ldamodel.LdaModel(corpus2, num_topics=25, id2word = dictionary2, passes=20)\n",
    "ldamodel2.save('/tmp/CuModel_2.lda')\n",
    "ldamodel3 = gensim.models.ldamodel.LdaModel(corpus3, num_topics=25, id2word = dictionary3, passes=20)\n",
    "ldamodel3.save('/tmp/CuModel_3.lda')\n",
    "ldamodel4 = gensim.models.ldamodel.LdaModel(corpus4, num_topics=25, id2word = dictionary4, passes=20)\n",
    "ldamodel4.save('/tmp/CuModel_4.lda')\n",
    "ldamodel5 = gensim.models.ldamodel.LdaModel(corpus5, num_topics=25, id2word = dictionary5, passes=20)\n",
    "ldamodel5.save('/tmp/CuModel_5.lda')\n",
    "\"\"\"\n",
    "\n",
    "print(\"done\")\n",
    "\n"
   ]
  },
  {
   "cell_type": "code",
   "execution_count": 6,
   "metadata": {
    "collapsed": false
   },
   "outputs": [
    {
     "name": "stdout",
     "output_type": "stream",
     "text": [
      "done\n"
     ]
    }
   ],
   "source": [
    "from gensim import corpora, models\n",
    "from collections import defaultdict\n",
    "import gensim\n",
    "\n",
    "\n",
    "class iterator:\n",
    "        n = 0\n",
    "        def __init__(self):\n",
    "                iterator.n += 1\n",
    "            \n",
    "\n",
    "def outputfile(*args): \n",
    "        num = iterator()\n",
    "        number = num.n\n",
    "        file=open(\"test\"+str(number)+\".txt\",\"w\")    \n",
    "        for line in a:\n",
    "            file.write(line)\n",
    "            file.write(\"\\n\")\n",
    "        file.close()\n",
    "\n",
    "a = ['h','2','3']\n",
    "b = ['b','2','h']\n",
    "outputfile(*a)\n",
    "outputfile(*b)\n",
    "\n",
    "print(\"done\")\n",
    "\n",
    "\n"
   ]
  },
  {
   "cell_type": "code",
   "execution_count": null,
   "metadata": {
    "collapsed": true
   },
   "outputs": [],
   "source": []
  }
 ],
 "metadata": {
  "kernelspec": {
   "display_name": "Anaconda 2.5.0 (Python 3)",
   "language": "python",
   "name": "anaconda_2.5.0_python3"
  },
  "language_info": {
   "codemirror_mode": {
    "name": "ipython",
    "version": 3
   },
   "file_extension": ".py",
   "mimetype": "text/x-python",
   "name": "python",
   "nbconvert_exporter": "python",
   "pygments_lexer": "ipython3",
   "version": "3.5.2"
  }
 },
 "nbformat": 4,
 "nbformat_minor": 1
}
