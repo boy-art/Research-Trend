{
 "cells": [
  {
   "cell_type": "code",
   "execution_count": 3,
   "metadata": {
    "collapsed": false
   },
   "outputs": [
    {
     "data": {
      "text/plain": [
       "[(0,\n",
       "  '0.022*research + 0.011*engineering + 0.009*cyberbullying + 0.009*students + 0.008*project + 0.007*modeling + 0.006*surface + 0.006*social + 0.006*function + 0.005*visual'),\n",
       " (1,\n",
       "  '0.010*research + 0.006*project + 0.006*students + 0.006*conservation + 0.006*development + 0.006*control + 0.005*based + 0.005*easement + 0.005*amulet + 0.005*vehicle'),\n",
       " (2,\n",
       "  '0.012*anions + 0.006*team + 0.006*applications + 0.006*production + 0.006*receptors + 0.004*research + 0.004*manufacturing + 0.004*capacity + 0.004*units + 0.004*membrane'),\n",
       " (3,\n",
       "  '0.013*methods + 0.010*research + 0.009*data + 0.009*computational + 0.009*scientific + 0.008*technology + 0.008*graduate + 0.007*studies + 0.007*project + 0.007*homes'),\n",
       " (4,\n",
       "  '0.013*processing + 0.009*center + 0.009*materials + 0.007*we + 0.007*systems + 0.007*material + 0.006*development + 0.005*optical + 0.005*ceramic, + 0.005*ceramic'),\n",
       " (5,\n",
       "  '0.008*research + 0.007*project + 0.007*develop + 0.007*network + 0.007*charging + 0.005*optimization + 0.005*study + 0.004*identify + 0.004*important + 0.004*mobile'),\n",
       " (6,\n",
       "  '0.011*research + 0.009*project + 0.009*geoscience + 0.007*students + 0.007*number + 0.005*detection + 0.005*program + 0.004*technology + 0.004*ejected + 0.004*goal'),\n",
       " (7,\n",
       "  '0.012*project + 0.012*research + 0.009*water + 0.008*stem + 0.006*students + 0.006*sustainability + 0.006*program + 0.005*different + 0.005*science + 0.004*faculty'),\n",
       " (8,\n",
       "  '0.012*research + 0.011*project + 0.009*computing + 0.007*data + 0.007*membrane + 0.007*power + 0.006*hpc + 0.005*systems + 0.005*network + 0.005*provenance'),\n",
       " (9,\n",
       "  '0.014*research + 0.010*power + 0.008*project + 0.007*students + 0.007*organizational + 0.007*development + 0.006*performance + 0.006*energy + 0.006*measurement + 0.006*stem'),\n",
       " (10,\n",
       "  '0.013*cybersecurity + 0.010*research + 0.009*infrastructure + 0.008*project + 0.006*team + 0.006*across + 0.006*risk + 0.006*preferences + 0.006*model + 0.006*capabilities'),\n",
       " (11,\n",
       "  '0.013*coastal + 0.013*research + 0.012*mercury + 0.010*organic + 0.009*carbon + 0.009*wetlands + 0.009*matter + 0.009*study + 0.007*water + 0.006*flooding'),\n",
       " (12,\n",
       "  '0.022*field + 0.018*experiences + 0.016*learning + 0.016*geoscience + 0.012*students + 0.011*reality + 0.011*earth + 0.009*project + 0.009*opportunities + 0.008*education,'),\n",
       " (13,\n",
       "  '0.026*grain + 0.024*steel + 0.015*size + 0.013*corrosion + 0.009*reinforcing + 0.009*concrete + 0.007*project + 0.007*different + 0.007*analysis + 0.007*analytical'),\n",
       " (14,\n",
       "  '0.011*methods + 0.009*efficient + 0.009*protein + 0.008*purification + 0.007*project + 0.006*binding + 0.006*potential + 0.006*market + 0.006*commercialization + 0.006*students'),\n",
       " (15,\n",
       "  '0.011*research + 0.007*project + 0.007*privacy + 0.005*liquid + 0.005*process + 0.005*novel + 0.005*design + 0.004*cell + 0.004*information + 0.004*detection'),\n",
       " (16,\n",
       "  '0.018*privacy + 0.012*data + 0.012*education + 0.011*sharing + 0.010*project + 0.010*collaborative + 0.010*microwave + 0.009*users + 0.008*osns. + 0.008*yeast'),\n",
       " (17,\n",
       "  '0.015*research + 0.009*project + 0.009*development + 0.008*ice + 0.008*students + 0.007*faculty + 0.006*nucleation + 0.006*stem + 0.005*recommender + 0.005*support'),\n",
       " (18,\n",
       "  '0.013*students + 0.012*project + 0.009*research + 0.006*process + 0.005*learning + 0.005*uv + 0.004*guides + 0.004*x-ray + 0.004*chemical + 0.004*-'),\n",
       " (19,\n",
       "  '0.016*research + 0.013*heat + 0.011*origami + 0.009*engineering + 0.008*design + 0.007*systems + 0.006*energy + 0.006*power + 0.006*generation + 0.005*project'),\n",
       " (20,\n",
       "  '0.016*research + 0.011*graduate + 0.010*mtbe + 0.009*students + 0.008*microbial + 0.008*conference + 0.007*infrastructure + 0.005*data + 0.005*science + 0.004*training'),\n",
       " (21,\n",
       "  '0.012*design + 0.012*algorithms + 0.011*material + 0.009*research + 0.008*project + 0.008*engineering + 0.008*subdivision-based + 0.007*biological + 0.005*np + 0.005*nps'),\n",
       " (22,\n",
       "  '0.018*science + 0.018*security + 0.012*dmzs. + 0.010*project + 0.008*sciguard + 0.006*traffic + 0.006*students + 0.006*sdn + 0.006*firewall + 0.004*research'),\n",
       " (23,\n",
       "  '0.010*implant + 0.010*research + 0.009*materials + 0.009*development + 0.008*artificial + 0.007*disposal + 0.007*award + 0.006*life + 0.005*project + 0.005*contribute'),\n",
       " (24,\n",
       "  '0.012*water + 0.011*research + 0.007*quality + 0.007*dynamics + 0.006*project + 0.005*design + 0.005*extreme + 0.005*different + 0.005*field + 0.004*related')]"
      ]
     },
     "execution_count": 3,
     "metadata": {},
     "output_type": "execute_result"
    }
   ],
   "source": [
    "from gensim import corpora,models,similarities\n",
    "from pprint import pprint \n",
    "from collections import defaultdict\n",
    "import os\n",
    "\n",
    "\n",
    "lda = models.LdaModel.load('/tmp/CuModel.lda')\n",
    "\n",
    "lda.print_topics(num_topics=25, num_words=10)\n"
   ]
  },
  {
   "cell_type": "code",
   "execution_count": null,
   "metadata": {
    "collapsed": false
   },
   "outputs": [],
   "source": []
  },
  {
   "cell_type": "code",
   "execution_count": null,
   "metadata": {
    "collapsed": true
   },
   "outputs": [],
   "source": []
  }
 ],
 "metadata": {
  "kernelspec": {
   "display_name": "Anaconda 2.5.0 (Python 3)",
   "language": "python",
   "name": "anaconda_2.5.0_python3"
  },
  "language_info": {
   "codemirror_mode": {
    "name": "ipython",
    "version": 3
   },
   "file_extension": ".py",
   "mimetype": "text/x-python",
   "name": "python",
   "nbconvert_exporter": "python",
   "pygments_lexer": "ipython3",
   "version": "3.5.2"
  }
 },
 "nbformat": 4,
 "nbformat_minor": 1
}
